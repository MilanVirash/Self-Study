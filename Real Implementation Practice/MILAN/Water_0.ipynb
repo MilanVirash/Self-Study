{
 "cells": [
  {
   "cell_type": "markdown",
   "metadata": {},
   "source": [
    "# <p style=\"background-color:#6b5c5c; font-family:Book Antiqua; color:white; font-size:120%; text-align:center; border-radius:1000px 1000px;\">• Capstone Project | Water Potability Prediction •</p>"
   ]
  },
  {
   "cell_type": "markdown",
   "metadata": {},
   "source": [
    "<image src=\"https://github.com/MilanVirash/Capstone_Project_Water-Potability/blob/main/Image.jpg?raw=true\" width=\"1500\">"
   ]
  },
  {
   "cell_type": "markdown",
   "metadata": {},
   "source": [
    "<div style=\"background-color: #2E2222; padding: 25px; border-radius:50px 50px; width:94%;\">\n",
    "    <p style=\"background-color:#6b5c5c; font-family:Book Antiqua; color:white; font-size:230%; text-align:left; border-radius:0px 0px;\">• About The Project</p>\n",
    "    <p style=\"font-family: 'Book Antiqua'; color: white; font-size:130%\">• In this project, the aim is to develop a machine learning model to predict water potability based on various water quality parameters. This model will help in assessing whether water is safe for consumption, which is crucial for public health and water management.  Access to clean drinking water is a global challenge, with millions of people lacking reliable sources of potable water. By developing advanced predictive models, we can contribute to global efforts in improving water quality and ensuring safe drinking water for communities worldwide.</p>\n",
    "    <p style=\"background-color:#6b5c5c; font-family:Book Antiqua; color:white; font-size:230%; text-align:left; border-radius:0px 0px;\">• Question</p>\n",
    "    <h3 style=\"font-family: 'Book Antiqua'; color: white;\">• Is the water potable or not?</h3>\n",
    "</div>"
   ]
  },
  {
   "cell_type": "markdown",
   "metadata": {},
   "source": [
    "<div style=\"background-color: #2E2222; padding: 25px; border-radius:50px 50px; width:70%;\">\n",
    "\n",
    "<p style=\"background-color:#6b5c5c; font-family:Book Antiqua; color:white; font-size:230%; text-align:left; border-radius:0px 0px;\">• Objectives</p>\n",
    "\n",
    "<p style=\"background-color:#6b5c5c; font-family:Book Antiqua; color:white; font-size:230%; text-align:left; border-radius:0px 0px;\">\n",
    "\n",
    "* __Explore the Dataset__: Uncover patterns, distributions, and relationships within the data.\n",
    "* __Conduct Extensive Exploratory Data Analysis (EDA)__: Dive deep into univariate and bivariate relationships against the target.\n",
    "* __Preprocessing Steps__:\n",
    "  - Remove irrelevant features\n",
    "  - Address missing values\n",
    "  - Treat outliers\n",
    "  - Encode categorical variables\n",
    "  - Transform skewed features to achieve normal-like distributions\n",
    "* __Model Building__:\n",
    "  - Establish models\n",
    "  - Implement and tune classification models including Logistic Regression, SVM, Decision Trees, Random Forest and KNN\n",
    "  - Emphasize achieving high recall for class 1, ensuring comprehensive identification potability\n",
    "* __Evaluate and Compare Model Performance__: Utilize precision, recall, and F1-score to gauge models' effectiveness.\n",
    "</p>"
   ]
  },
  {
   "cell_type": "markdown",
   "metadata": {},
   "source": [
    "<div style=\"background-color: #2E2222; padding: 25px; border-radius:50px 50px; width:30%;\">\n",
    "    <p style=\"background-color:#6b5c5c; font-family:Book Antiqua; color:white; font-size:230%; text-align:left; border-radius:0px 0px;\">• Table Of Contents:</p>\n",
    "<!DOCTYPE html>\n",
    "<html>\n",
    "<head>\n",
    "    <title>Project Steps</title>\n",
    "    <style>\n",
    "        body {\n",
    "            background-color: #9c9898;\n",
    "            color: black;\n",
    "            font-family: Arial, sans-serif;\n",
    "        }\n",
    "        .content {\n",
    "            font-size: 20px; /* Adjust the font size as needed */\n",
    "            font-family: 'Arial Bold', serif; /* Change the font style as needed */\n",
    "            color:white;\n",
    "        }\n",
    "        h1, h2, h3, h4, h5, h6 {\n",
    "            font-size: 0px; /* Adjust the font size for all headings */\n",
    "        }\n",
    "    </style>\n",
    "</head>\n",
    "<body>\n",
    "\n",
    "<div class=\"content\">\n",
    "    <ol>\n",
    "        <li><strong>Import Libraries</strong>\n",
    "        </li>\n",
    "        <li><strong>Read Dataset</strong>\n",
    "            <ul>\n",
    "                <li>Load The Dataset</li>\n",
    "                <li>Dataset Discription</li>\n",
    "            </ul>\n",
    "        </li>\n",
    "        <li><strong>Dataset Overview</strong>\n",
    "            <ul>\n",
    "                <li>Basic Information</li>\n",
    "                <li>Statistic Summary</li>\n",
    "            </ul>\n",
    "        </li>\n",
    "        <li><strong>EDA</strong></li>\n",
    "            <ul>\n",
    "                <li>Univariate Analysis</li>\n",
    "                <li>Distribution Of Target Variable</li>\n",
    "                <li>Bivariate Analysis</li>\n",
    "                <li>Checking Outliears</li>\n",
    "            </ul>\n",
    "        <li><strong>Data PreProcessing</strong>\n",
    "            <ul>\n",
    "                <li>Missing Values Treatment</li>\n",
    "                <li>Outlier Removal</li>\n",
    "                <li>Data Splitting & Standardization</li>\n",
    "            </ul>\n",
    "        </li>\n",
    "        <li><strong>Logistic Regression</strong></li>\n",
    "            <ul>\n",
    "                <li>LR Base Model</li>\n",
    "                <li>LR Hyperparameter Tuning</li>\n",
    "                <li>LR Model Evaluation</li>\n",
    "            </ul>\n",
    "        </li>\n",
    "        <li><strong>Decision Tree</strong></li>\n",
    "            <ul>\n",
    "                <li>DT Base Model</li>\n",
    "                <li>DT Hyperparameter Tuning</li>\n",
    "                <li>DT Model Evaluation</li>\n",
    "            </ul>\n",
    "        </li>\n",
    "        <li><strong>Random Forest</strong></li>\n",
    "            <ul>\n",
    "                <li>RF Base Model</li>\n",
    "                <li>RF Hyperparameter Tuning</li>\n",
    "                <li>RF Model Evaluation</li>\n",
    "            </ul>\n",
    "        </li>\n",
    "        <li><strong>SVM</strong></li>\n",
    "            <ul>\n",
    "                <li>SVN Base Model</li>\n",
    "                <li>SVM Hyperparameter Tuning</li>\n",
    "                <li>SVMModel Evaluation</li>\n",
    "            </ul>\n",
    "        </li>\n",
    "        <li><strong>KNN</strong></li>\n",
    "            <ul>\n",
    "                <li>KNN Base Model</li>\n",
    "                <li>KNN Hyperparameter Tuning</li>\n",
    "                <li>KNN Model Evaluation</li>\n",
    "            </ul>\n",
    "        </li>\n",
    "        <li><strong>Comparison Of All Algorithms</strong></li>\n",
    "        <li><strong>Conclusion</strong></li>\n",
    "    </ol>\n",
    "</div>\n",
    "\n",
    "</body>\n",
    "</html>\n",
    "\n"
   ]
  },
  {
   "cell_type": "markdown",
   "metadata": {},
   "source": [
    "# <b> Let's Get Started:"
   ]
  },
  {
   "cell_type": "markdown",
   "metadata": {},
   "source": [
    "# <p style=\"background-color:#6b5c5c; font-family:Book Antiqua; color:white; font-size:120%; text-align:center; border-radius:1000px 1000px;\">↪  Step 1  :  Import Libraries :</p>\n"
   ]
  },
  {
   "cell_type": "code",
   "execution_count": 2,
   "metadata": {},
   "outputs": [],
   "source": [
    "import pandas as pd\n",
    "import numpy as np\n",
    "import matplotlib.pyplot as plt\n",
    "import seaborn as sns\n",
    "\n",
    "from sklearn.model_selection import train_test_split, RandomizedSearchCV\n",
    "from sklearn.preprocessing import StandardScaler\n",
    "from sklearn import tree\n",
    "\n",
    "from sklearn.linear_model import LogisticRegression\n",
    "from sklearn.tree import DecisionTreeClassifier\n",
    "from sklearn.ensemble import RandomForestClassifier\n",
    "from sklearn.svm import SVC\n",
    "from sklearn.neighbors import KNeighborsClassifier\n",
    "\n",
    "from sklearn.metrics import classification_report, accuracy_score, confusion_matrix\n",
    "from sklearn import metrics\n",
    "\n",
    "import warnings\n",
    "from sklearn.preprocessing import StandardScaler\n",
    "\n",
    "warnings.filterwarnings('ignore')\n",
    "\n",
    "# Import necessary libraries\n",
    "from sklearn.datasets import make_classification\n",
    "from scipy.stats import randint\n"
   ]
  },
  {
   "cell_type": "markdown",
   "metadata": {},
   "source": [
    "# <p style=\"background-color:#6b5c5c; font-family:Book Antiqua; color:white; font-size:120%; text-align:center; border-radius:1000px 1000px;\">↪  Step 2  :  Read Dataset :</p>"
   ]
  },
  {
   "cell_type": "markdown",
   "metadata": {},
   "source": [
    "#  <b> • Let's load the dataset:"
   ]
  },
  {
   "cell_type": "code",
   "execution_count": null,
   "metadata": {},
   "outputs": [
    {
     "data": {
      "text/html": [
       "<div>\n",
       "<style scoped>\n",
       "    .dataframe tbody tr th:only-of-type {\n",
       "        vertical-align: middle;\n",
       "    }\n",
       "\n",
       "    .dataframe tbody tr th {\n",
       "        vertical-align: top;\n",
       "    }\n",
       "\n",
       "    .dataframe thead th {\n",
       "        text-align: right;\n",
       "    }\n",
       "</style>\n",
       "<table border=\"1\" class=\"dataframe\">\n",
       "  <thead>\n",
       "    <tr style=\"text-align: right;\">\n",
       "      <th></th>\n",
       "      <th>ph</th>\n",
       "      <th>Hardness</th>\n",
       "      <th>Solids</th>\n",
       "      <th>Chloramines</th>\n",
       "      <th>Sulfate</th>\n",
       "      <th>Conductivity</th>\n",
       "      <th>Organic_carbon</th>\n",
       "      <th>Trihalomethanes</th>\n",
       "      <th>Turbidity</th>\n",
       "      <th>Potability</th>\n",
       "    </tr>\n",
       "  </thead>\n",
       "  <tbody>\n",
       "    <tr>\n",
       "      <th>0</th>\n",
       "      <td>NaN</td>\n",
       "      <td>204.890455</td>\n",
       "      <td>20791.318981</td>\n",
       "      <td>7.300212</td>\n",
       "      <td>368.516441</td>\n",
       "      <td>564.308654</td>\n",
       "      <td>10.379783</td>\n",
       "      <td>86.990970</td>\n",
       "      <td>2.963135</td>\n",
       "      <td>0</td>\n",
       "    </tr>\n",
       "    <tr>\n",
       "      <th>1</th>\n",
       "      <td>3.716080</td>\n",
       "      <td>129.422921</td>\n",
       "      <td>18630.057858</td>\n",
       "      <td>6.635246</td>\n",
       "      <td>NaN</td>\n",
       "      <td>592.885359</td>\n",
       "      <td>15.180013</td>\n",
       "      <td>56.329076</td>\n",
       "      <td>4.500656</td>\n",
       "      <td>0</td>\n",
       "    </tr>\n",
       "    <tr>\n",
       "      <th>2</th>\n",
       "      <td>8.099124</td>\n",
       "      <td>224.236259</td>\n",
       "      <td>19909.541732</td>\n",
       "      <td>9.275884</td>\n",
       "      <td>NaN</td>\n",
       "      <td>418.606213</td>\n",
       "      <td>16.868637</td>\n",
       "      <td>66.420093</td>\n",
       "      <td>3.055934</td>\n",
       "      <td>0</td>\n",
       "    </tr>\n",
       "    <tr>\n",
       "      <th>3</th>\n",
       "      <td>8.316766</td>\n",
       "      <td>214.373394</td>\n",
       "      <td>22018.417441</td>\n",
       "      <td>8.059332</td>\n",
       "      <td>356.886136</td>\n",
       "      <td>363.266516</td>\n",
       "      <td>18.436524</td>\n",
       "      <td>100.341674</td>\n",
       "      <td>4.628771</td>\n",
       "      <td>0</td>\n",
       "    </tr>\n",
       "    <tr>\n",
       "      <th>4</th>\n",
       "      <td>9.092223</td>\n",
       "      <td>181.101509</td>\n",
       "      <td>17978.986339</td>\n",
       "      <td>6.546600</td>\n",
       "      <td>310.135738</td>\n",
       "      <td>398.410813</td>\n",
       "      <td>11.558279</td>\n",
       "      <td>31.997993</td>\n",
       "      <td>4.075075</td>\n",
       "      <td>0</td>\n",
       "    </tr>\n",
       "    <tr>\n",
       "      <th>...</th>\n",
       "      <td>...</td>\n",
       "      <td>...</td>\n",
       "      <td>...</td>\n",
       "      <td>...</td>\n",
       "      <td>...</td>\n",
       "      <td>...</td>\n",
       "      <td>...</td>\n",
       "      <td>...</td>\n",
       "      <td>...</td>\n",
       "      <td>...</td>\n",
       "    </tr>\n",
       "    <tr>\n",
       "      <th>3271</th>\n",
       "      <td>4.668102</td>\n",
       "      <td>193.681735</td>\n",
       "      <td>47580.991603</td>\n",
       "      <td>7.166639</td>\n",
       "      <td>359.948574</td>\n",
       "      <td>526.424171</td>\n",
       "      <td>13.894419</td>\n",
       "      <td>66.687695</td>\n",
       "      <td>4.435821</td>\n",
       "      <td>1</td>\n",
       "    </tr>\n",
       "    <tr>\n",
       "      <th>3272</th>\n",
       "      <td>7.808856</td>\n",
       "      <td>193.553212</td>\n",
       "      <td>17329.802160</td>\n",
       "      <td>8.061362</td>\n",
       "      <td>NaN</td>\n",
       "      <td>392.449580</td>\n",
       "      <td>19.903225</td>\n",
       "      <td>NaN</td>\n",
       "      <td>2.798243</td>\n",
       "      <td>1</td>\n",
       "    </tr>\n",
       "    <tr>\n",
       "      <th>3273</th>\n",
       "      <td>9.419510</td>\n",
       "      <td>175.762646</td>\n",
       "      <td>33155.578218</td>\n",
       "      <td>7.350233</td>\n",
       "      <td>NaN</td>\n",
       "      <td>432.044783</td>\n",
       "      <td>11.039070</td>\n",
       "      <td>69.845400</td>\n",
       "      <td>3.298875</td>\n",
       "      <td>1</td>\n",
       "    </tr>\n",
       "    <tr>\n",
       "      <th>3274</th>\n",
       "      <td>5.126763</td>\n",
       "      <td>230.603758</td>\n",
       "      <td>11983.869376</td>\n",
       "      <td>6.303357</td>\n",
       "      <td>NaN</td>\n",
       "      <td>402.883113</td>\n",
       "      <td>11.168946</td>\n",
       "      <td>77.488213</td>\n",
       "      <td>4.708658</td>\n",
       "      <td>1</td>\n",
       "    </tr>\n",
       "    <tr>\n",
       "      <th>3275</th>\n",
       "      <td>7.874671</td>\n",
       "      <td>195.102299</td>\n",
       "      <td>17404.177061</td>\n",
       "      <td>7.509306</td>\n",
       "      <td>NaN</td>\n",
       "      <td>327.459760</td>\n",
       "      <td>16.140368</td>\n",
       "      <td>78.698446</td>\n",
       "      <td>2.309149</td>\n",
       "      <td>1</td>\n",
       "    </tr>\n",
       "  </tbody>\n",
       "</table>\n",
       "<p>3276 rows × 10 columns</p>\n",
       "</div>"
      ],
      "text/plain": [
       "            ph    Hardness        Solids  Chloramines     Sulfate  \\\n",
       "0          NaN  204.890455  20791.318981     7.300212  368.516441   \n",
       "1     3.716080  129.422921  18630.057858     6.635246         NaN   \n",
       "2     8.099124  224.236259  19909.541732     9.275884         NaN   \n",
       "3     8.316766  214.373394  22018.417441     8.059332  356.886136   \n",
       "4     9.092223  181.101509  17978.986339     6.546600  310.135738   \n",
       "...        ...         ...           ...          ...         ...   \n",
       "3271  4.668102  193.681735  47580.991603     7.166639  359.948574   \n",
       "3272  7.808856  193.553212  17329.802160     8.061362         NaN   \n",
       "3273  9.419510  175.762646  33155.578218     7.350233         NaN   \n",
       "3274  5.126763  230.603758  11983.869376     6.303357         NaN   \n",
       "3275  7.874671  195.102299  17404.177061     7.509306         NaN   \n",
       "\n",
       "      Conductivity  Organic_carbon  Trihalomethanes  Turbidity  Potability  \n",
       "0       564.308654       10.379783        86.990970   2.963135           0  \n",
       "1       592.885359       15.180013        56.329076   4.500656           0  \n",
       "2       418.606213       16.868637        66.420093   3.055934           0  \n",
       "3       363.266516       18.436524       100.341674   4.628771           0  \n",
       "4       398.410813       11.558279        31.997993   4.075075           0  \n",
       "...            ...             ...              ...        ...         ...  \n",
       "3271    526.424171       13.894419        66.687695   4.435821           1  \n",
       "3272    392.449580       19.903225              NaN   2.798243           1  \n",
       "3273    432.044783       11.039070        69.845400   3.298875           1  \n",
       "3274    402.883113       11.168946        77.488213   4.708658           1  \n",
       "3275    327.459760       16.140368        78.698446   2.309149           1  \n",
       "\n",
       "[3276 rows x 10 columns]"
      ]
     },
     "metadata": {},
     "output_type": "display_data"
    }
   ],
   "source": [
    "data = pd.read_csv(\"water_potability.csv\")\n",
    "data"
   ]
  },
  {
   "cell_type": "code",
   "execution_count": 5,
   "metadata": {},
   "outputs": [
    {
     "name": "stdout",
     "output_type": "stream",
     "text": [
      "Using Synthetic Data\n",
      "Fitting 5 folds for each of 50 candidates, totalling 250 fits\n",
      "Best Hyperparameters: {'bootstrap': False, 'criterion': 'gini', 'max_depth': 12, 'min_samples_leaf': 3, 'min_samples_split': 8, 'n_estimators': 863}\n",
      "Accuracy: 0.895\n",
      "Classification Report:\n",
      "               precision    recall  f1-score   support\n",
      "\n",
      "           0       0.92      0.89      0.90       112\n",
      "           1       0.87      0.90      0.88        88\n",
      "\n",
      "    accuracy                           0.90       200\n",
      "   macro avg       0.89      0.90      0.89       200\n",
      "weighted avg       0.90      0.90      0.90       200\n",
      "\n"
     ]
    }
   ],
   "source": [
    "\n",
    "# Function to generate synthetic data\n",
    "def generate_synthetic_data():\n",
    "    X, y = make_classification(n_samples=1000,     # Number of samples\n",
    "                               n_features=20,      # Number of features\n",
    "                               n_informative=15,   # Number of informative features\n",
    "                               n_redundant=2,      # Number of redundant features\n",
    "                               n_classes=2,        # Binary classification\n",
    "                               random_state=42)\n",
    "    return X, y\n",
    "\n",
    "# Function to load real data (from water_potability.csv)\n",
    "def load_real_data():\n",
    "    df = pd.read_csv(\"water_potability.csv\")\n",
    "    \n",
    "    # Handle missing data by filling with the mean\n",
    "    df.fillna(df.mean(), inplace=True)\n",
    "    \n",
    "    # Split features (X) and target (y)\n",
    "    X = df.drop('Potability', axis=1)  # Assuming the target column is 'Potability'\n",
    "    y = df['Potability']\n",
    "    return X, y\n",
    "\n",
    "# Toggle between synthetic and real data\n",
    "use_synthetic_data = True  # Change this to False to use real data (water_potability.csv)\n",
    "\n",
    "if use_synthetic_data:\n",
    "    X, y = generate_synthetic_data()\n",
    "    print(\"Using Synthetic Data\")\n",
    "else:\n",
    "    X, y = load_real_data()\n",
    "    print(\"Using Real Data from water_potability.csv\")\n",
    "\n",
    "# Split into train and test sets\n",
    "X_train, X_test, y_train, y_test = train_test_split(X, y, test_size=0.2, random_state=42)\n",
    "\n",
    "# Define Random Forest Classifier\n",
    "rf = RandomForestClassifier()\n",
    "\n",
    "# Set up Hyperparameter Space for RandomizedSearchCV\n",
    "param_dist = {\n",
    "    'n_estimators': randint(100, 1000),        # Number of trees\n",
    "    'max_depth': randint(3, 20),               # Maximum depth of each tree\n",
    "    'min_samples_split': randint(2, 11),       # Minimum samples required to split a node\n",
    "    'min_samples_leaf': randint(1, 11),        # Minimum samples required at a leaf node\n",
    "    'bootstrap': [True, False],                # Whether to use bootstrap samples\n",
    "    'criterion': ['gini', 'entropy']           # Split criterion\n",
    "}\n",
    "\n",
    "# Set up RandomizedSearchCV\n",
    "random_search = RandomizedSearchCV(rf, param_distributions=param_dist, \n",
    "                                   n_iter=50, cv=5, verbose=2, random_state=42, n_jobs=-1)\n",
    "\n",
    "# Fit the model with RandomizedSearchCV\n",
    "random_search.fit(X_train, y_train)\n",
    "\n",
    "# Get the best parameters from RandomizedSearchCV\n",
    "best_rf = random_search.best_estimator_\n",
    "print(\"Best Hyperparameters:\", random_search.best_params_)\n",
    "\n",
    "# Make predictions on the test set\n",
    "y_pred = best_rf.predict(X_test)\n",
    "\n",
    "# Evaluate the model\n",
    "print(\"Accuracy:\", accuracy_score(y_test, y_pred))\n",
    "print(\"Classification Report:\\n\", classification_report(y_test, y_pred))\n"
   ]
  },
  {
   "cell_type": "code",
   "execution_count": 4,
   "metadata": {},
   "outputs": [],
   "source": [
    "from sklearn.metrics import confusion_matrix\n",
    "from sklearn import metrics"
   ]
  },
  {
   "cell_type": "code",
   "execution_count": 5,
   "metadata": {},
   "outputs": [
    {
     "data": {
      "text/plain": [
       "<sklearn.metrics._plot.confusion_matrix.ConfusionMatrixDisplay at 0x274dcb39c30>"
      ]
     },
     "execution_count": 5,
     "metadata": {},
     "output_type": "execute_result"
    },
    {
     "data": {
      "image/png": "[encoded data removed]",
      "text/plain": [
       "<Figure size 640x480 with 2 Axes>"
      ]
     },
     "metadata": {},
     "output_type": "display_data"
    }
   ],
   "source": [
    "# Confusion Metrics\n",
    "confusion_LR = metrics.ConfusionMatrixDisplay(confusion_matrix=confusion_matrix(y_test, y_pred))\n",
    "confusion_LR.plot()"
   ]
  },
  {
   "cell_type": "code",
   "execution_count": 7,
   "metadata": {},
   "outputs": [],
   "source": [
    "from sklearn.tree import DecisionTreeClassifier\n",
    "from sklearn.model_selection import GridSearchCV"
   ]
  },
  {
   "cell_type": "code",
   "execution_count": 8,
   "metadata": {},
   "outputs": [
    {
     "name": "stdout",
     "output_type": "stream",
     "text": [
      "              precision    recall  f1-score   support\n",
      "\n",
      "           0       0.81      0.68      0.74       112\n",
      "           1       0.66      0.80      0.72        88\n",
      "\n",
      "    accuracy                           0.73       200\n",
      "   macro avg       0.73      0.74      0.73       200\n",
      "weighted avg       0.74      0.73      0.73       200\n",
      "\n"
     ]
    }
   ],
   "source": [
    "# Define the base DT model\n",
    "DT = DecisionTreeClassifier(random_state=0)\n",
    "\n",
    "# Define the DT hyperparameter\n",
    "param_grid_dt = {\n",
    "    'criterion': ['gini', 'entropy'],  # Function to measure the quality of a split.\n",
    "    'max_depth': [2, 3],  # Maximum depth of the tree.\n",
    "    'min_samples_split': [2, 3, 4],  # Minimum samples required to split a node.\n",
    "    'min_samples_leaf': [1, 2]  # Minimum samples required to be a leaf node.\n",
    "}\n",
    "\n",
    "gridSearch_DT = GridSearchCV(estimator=DT, param_grid=param_grid_dt, cv=5, scoring='accuracy', n_jobs=-1)\n",
    "gridSearch_DT.fit(X_train, y_train)\n",
    "\n",
    "best_params_DT = gridSearch_DT.best_params_\n",
    "\n",
    "best_DT = DecisionTreeClassifier(random_state=42, **best_params_DT)\n",
    "best_DT.fit(X_train, y_train)\n",
    "\n",
    "# Evaluate the optimized model on the test data\n",
    "print(classification_report(y_test, best_DT.predict(X_test)))"
   ]
  },
  {
   "cell_type": "code",
   "execution_count": 14,
   "metadata": {},
   "outputs": [
    {
     "data": {
      "text/plain": [
       "<sklearn.metrics._plot.confusion_matrix.ConfusionMatrixDisplay at 0x274e18bebf0>"
      ]
     },
     "execution_count": 14,
     "metadata": {},
     "output_type": "execute_result"
    },
    {
     "data": {
      "image/png": "[encoded data removed]",
      "text/plain": [
       "<Figure size 640x480 with 2 Axes>"
      ]
     },
     "metadata": {},
     "output_type": "display_data"
    }
   ],
   "source": [
    "# Confusion Metrics\n",
    "confusion_svm = metrics.ConfusionMatrixDisplay(confusion_matrix=confusion_matrix(y_test, best_DT.predict(X_test)))\n",
    "confusion_svm.plot()"
   ]
  },
  {
   "cell_type": "code",
   "execution_count": 9,
   "metadata": {},
   "outputs": [],
   "source": [
    "from sklearn.svm import SVC"
   ]
  },
  {
   "cell_type": "code",
   "execution_count": 10,
   "metadata": {},
   "outputs": [
    {
     "name": "stdout",
     "output_type": "stream",
     "text": [
      "              precision    recall  f1-score   support\n",
      "\n",
      "           0       0.98      0.91      0.94       112\n",
      "           1       0.90      0.98      0.93        88\n",
      "\n",
      "    accuracy                           0.94       200\n",
      "   macro avg       0.94      0.94      0.94       200\n",
      "weighted avg       0.94      0.94      0.94       200\n",
      "\n"
     ]
    }
   ],
   "source": [
    "# Define the SVM base model\n",
    "base_SVM = SVC()\n",
    "\n",
    "# Define the SVM hyperparameter\n",
    "param_grid_SVM = {\n",
    "    'C': [0.1, 1, 10],  # Regularization parameter: higher values prioritize fitting the training data, while lower values apply more regularization to avoid overfitting.\n",
    "    'gamma': [0.1, 1, 0.01],  # Kernel coefficient for 'rbf' kernel: controls the influence of individual training examples, with higher values leading to more complex models.\n",
    "    'kernel': ['rbf', 'linear']  # Kernel type: 'rbf' for non-linear classification, 'linear' for linear decision boundaries.\n",
    "}\n",
    "\n",
    "gridsearch_SVM = GridSearchCV(base_SVM, param_grid_SVM, refit=True)\n",
    "gridsearch_SVM.fit(X_train, y_train)\n",
    "\n",
    "best_params_svm = gridsearch_SVM.best_params_\n",
    "\n",
    "best_svm = SVC(**best_params_svm)\n",
    "best_svm.fit(X_train, y_train)\n",
    "\n",
    "# Evaluate the optimized model on the test data\n",
    "print(classification_report(y_test, best_svm.predict(X_test)))"
   ]
  },
  {
   "cell_type": "code",
   "execution_count": 12,
   "metadata": {},
   "outputs": [
    {
     "data": {
      "text/plain": [
       "<sklearn.metrics._plot.confusion_matrix.ConfusionMatrixDisplay at 0x274e18bdd80>"
      ]
     },
     "execution_count": 12,
     "metadata": {},
     "output_type": "execute_result"
    },
    {
     "data": {
      "image/png": "[encoded data removed]",
      "text/plain": [
       "<Figure size 640x480 with 2 Axes>"
      ]
     },
     "metadata": {},
     "output_type": "display_data"
    }
   ],
   "source": [
    "# Confusion Metrics\n",
    "confusion_svm = metrics.ConfusionMatrixDisplay(confusion_matrix=confusion_matrix(y_test, best_svm.predict(X_test)))\n",
    "confusion_svm.plot()"
   ]
  },
  {
   "cell_type": "code",
   "execution_count": 15,
   "metadata": {},
   "outputs": [],
   "source": [
    "from sklearn.neighbors import KNeighborsClassifier"
   ]
  },
  {
   "cell_type": "code",
   "execution_count": 17,
   "metadata": {},
   "outputs": [
    {
     "name": "stdout",
     "output_type": "stream",
     "text": [
      "              precision    recall  f1-score   support\n",
      "\n",
      "           0       0.96      0.90      0.93       112\n",
      "           1       0.88      0.95      0.92        88\n",
      "\n",
      "    accuracy                           0.93       200\n",
      "   macro avg       0.92      0.93      0.92       200\n",
      "weighted avg       0.93      0.93      0.93       200\n",
      "\n"
     ]
    }
   ],
   "source": [
    "knn = KNeighborsClassifier()\n",
    "\n",
    "# Define the KNN hyperparameter\n",
    "param_grid_knn = {\n",
    "    'n_neighbors': [3, 5, 7, 9],  # Number of neighbors: determines how many neighbors to consider when classifying a point.\n",
    "    'weights': ['uniform', 'distance'],  # Weight function: 'uniform' gives all neighbors equal weight, while 'distance' weighs closer neighbors more.\n",
    "    'metric': ['euclidean', 'manhattan', 'minkowski']  # Distance metric: 'euclidean' is standard straight-line distance, 'manhattan' is sum of absolute differences, and 'minkowski' is a generalized distance metric.\n",
    "}\n",
    "\n",
    "gridsearch_knn = GridSearchCV(estimator=knn, param_grid=param_grid_knn, refit=True)\n",
    "gridsearch_knn.fit(X_train, y_train)\n",
    "\n",
    "best_params_knn = gridsearch_knn.best_params_\n",
    "\n",
    "\n",
    "best_knn = KNeighborsClassifier(**best_params_knn)\n",
    "\n",
    "# Fit the re-initialized model on the training data\n",
    "best_knn.fit(X_train, y_train)\n",
    "\n",
    "# Evaluate the optimized model on the test data\n",
    "print(classification_report(y_test, best_knn.predict(X_test)))"
   ]
  },
  {
   "cell_type": "code",
   "execution_count": 19,
   "metadata": {},
   "outputs": [
    {
     "data": {
      "text/plain": [
       "<sklearn.metrics._plot.confusion_matrix.ConfusionMatrixDisplay at 0x274e2cebd90>"
      ]
     },
     "execution_count": 19,
     "metadata": {},
     "output_type": "execute_result"
    },
    {
     "data": {
      "image/png": "[encoded data removed]",
      "text/plain": [
       "<Figure size 640x480 with 2 Axes>"
      ]
     },
     "metadata": {},
     "output_type": "display_data"
    }
   ],
   "source": [
    "# Confusion MetricX\n",
    "confusion_KNN = metrics.ConfusionMatrixDisplay(confusion_matrix=confusion_matrix(y_test, best_knn.predict(X_test)))\n",
    "confusion_KNN.plot()"
   ]
  },
  {
   "cell_type": "code",
   "execution_count": 20,
   "metadata": {},
   "outputs": [
    {
     "name": "stdout",
     "output_type": "stream",
     "text": [
      "0.875\n"
     ]
    }
   ],
   "source": [
    "from xgboost import XGBClassifier\n",
    "\n",
    "#creating the model\n",
    "model_xgb=XGBClassifier(max_depth=8,n_estimators=125,random_state=0,learning_rate=0.03,n_jobs=5)\n",
    "\n",
    "#training the model\n",
    "model_xgb.fit(X_train,y_train)\n",
    "\n",
    "#making the prediction\n",
    "pred_xgb=model_xgb.predict(X_test)\n",
    "\n",
    "#calculating accuracy score of model\n",
    "xgb=accuracy_score(y_test,pred_xgb)\n",
    "print(xgb)"
   ]
  },
  {
   "cell_type": "code",
   "execution_count": null,
   "metadata": {},
   "outputs": [],
   "source": []
  }
 ],
 "metadata": {
  "kernelspec": {
   "display_name": "Python 3",
   "language": "python",
   "name": "python3"
  },
  "language_info": {
   "codemirror_mode": {
    "name": "ipython",
    "version": 3
   },
   "file_extension": ".py",
   "mimetype": "text/x-python",
   "name": "python",
   "nbconvert_exporter": "python",
   "pygments_lexer": "ipython3",
   "version": "3.10.10"
  }
 },
 "nbformat": 4,
 "nbformat_minor": 2
}
